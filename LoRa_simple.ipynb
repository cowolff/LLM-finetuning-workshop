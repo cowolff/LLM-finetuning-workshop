{
 "cells": [
  {
   "cell_type": "markdown",
   "metadata": {},
   "source": [
    "# Create a LoRa using Peft"
   ]
  },
  {
   "cell_type": "markdown",
   "metadata": {},
   "source": [
    "First, import all the necessary libraries.\n",
    "<br/>\n",
    "Transformers loads the pretrained model/tokenizer, as well as the Trainer classes. Peft is responsible provides the LoRa adapters.\n",
    "Pandas is used to load the custom dataset."
   ]
  },
  {
   "cell_type": "code",
   "execution_count": 1,
   "metadata": {},
   "outputs": [],
   "source": [
    "from transformers import AutoTokenizer, AutoModelForCausalLM, Trainer, TrainingArguments\n",
    "from peft import LoraConfig, get_peft_model, TaskType\n",
    "import pandas as pd\n",
    "from transformers import TrainerCallback"
   ]
  },
  {
   "cell_type": "markdown",
   "metadata": {},
   "source": [
    "### Load the model and initialize the LoraConfig"
   ]
  },
  {
   "cell_type": "code",
   "execution_count": 2,
   "metadata": {},
   "outputs": [],
   "source": [
    "MODEL_NAME = \"Qwen/Qwen2.5-0.5B\"\n",
    "device = \"mps\"  # or \"cuda\", \"cpu\"\n",
    "\n",
    "base_model = AutoModelForCausalLM.from_pretrained(MODEL_NAME, device_map=\"auto\")\n",
    "\n",
    "tokenizer = AutoTokenizer.from_pretrained(MODEL_NAME)\n",
    "\n",
    "lora_config = LoraConfig(\n",
    "    r=16,\n",
    "    target_modules=[\"q_proj\", \"v_proj\"],\n",
    "    task_type=TaskType.CAUSAL_LM,\n",
    "    lora_alpha=32,\n",
    "    lora_dropout=0.05\n",
    ")\n",
    "\n",
    "peft_model = get_peft_model(base_model, lora_config)"
   ]
  },
  {
   "cell_type": "markdown",
   "metadata": {},
   "source": [
    "### Tokenize the dataset\n",
    "To improve training speed, tokenize the dataset before training to avoid having to execute the tokenizer function during training.<br/>\n",
    "The structure of 'Inputs', 'Labels', 'Attention_Mask' are enforced by the transformer library and CausalLMs"
   ]
  },
  {
   "cell_type": "code",
   "execution_count": 3,
   "metadata": {},
   "outputs": [],
   "source": [
    "def tokenize_data(dataframe, tokenizer, max_seq_length: int, device: str):\n",
    "    tokenized_data = []\n",
    "    for _, row in dataframe.iterrows():\n",
    "        question = row['Question']\n",
    "        answer = row['Answer']\n",
    "        try:\n",
    "\n",
    "            # Tokenize the question\n",
    "            inputs = tokenizer(\n",
    "                question,\n",
    "                padding='max_length',\n",
    "                truncation=True,\n",
    "                max_length=max_seq_length,\n",
    "                return_tensors=\"pt\"\n",
    "            )\n",
    "\n",
    "            # Tokenize the answer as labels\n",
    "            labels = tokenizer(\n",
    "                f\"{question}: {answer}\",\n",
    "                padding='max_length',\n",
    "                truncation=True,\n",
    "                max_length=max_seq_length,\n",
    "                return_tensors=\"pt\"\n",
    "            )['input_ids'].squeeze()\n",
    "\n",
    "            tokenized_data.append({\n",
    "                'input_ids': inputs['input_ids'].squeeze().to(device),\n",
    "                'attention_mask': inputs['attention_mask'].squeeze().to(device),\n",
    "                'labels': labels.to(device)\n",
    "            })\n",
    "        except Exception as e:\n",
    "            print(f\"Error tokenizing row: {e}\")\n",
    "            continue\n",
    "\n",
    "    return tokenized_data"
   ]
  },
  {
   "cell_type": "code",
   "execution_count": 4,
   "metadata": {},
   "outputs": [],
   "source": [
    "dataframe = pd.read_csv('wiki_qa_by_headline.csv')\n",
    "\n",
    "max_seq_length = 512\n",
    "\n",
    "output_dir = \"output_dir\"\n",
    "\n",
    "tokenized_data = tokenize_data(dataframe, tokenizer, max_seq_length, device)"
   ]
  },
  {
   "cell_type": "markdown",
   "metadata": {},
   "source": [
    "### Initialize the trainer classes"
   ]
  },
  {
   "cell_type": "code",
   "execution_count": 5,
   "metadata": {},
   "outputs": [],
   "source": [
    "class LossTrackerCallback(TrainerCallback):\n",
    "    def __init__(self):\n",
    "        self.losses = []\n",
    "\n",
    "    def on_log(self, args, state, control, logs=None, **kwargs):\n",
    "        if logs is not None and \"loss\" in logs:\n",
    "            self.losses.append(logs[\"loss\"])\n",
    "\n",
    "loss_tracker = LossTrackerCallback()"
   ]
  },
  {
   "cell_type": "code",
   "execution_count": 6,
   "metadata": {},
   "outputs": [],
   "source": [
    "training_args = TrainingArguments(\n",
    "    per_device_train_batch_size=1,\n",
    "    gradient_accumulation_steps=4,\n",
    "    output_dir=output_dir,\n",
    "    num_train_epochs=1, #increase more for better training\n",
    "    learning_rate=1e-4,\n",
    "    optim=\"adamw_torch\",\n",
    "    lr_scheduler_type=\"cosine\",\n",
    "    warmup_ratio=0.01,\n",
    "    report_to=\"none\",\n",
    ")\n",
    "\n",
    "trainer = Trainer(\n",
    "    model = base_model,\n",
    "    args = training_args,\n",
    "    train_dataset = tokenized_data,\n",
    "    callbacks=[loss_tracker]\n",
    ")"
   ]
  },
  {
   "cell_type": "markdown",
   "metadata": {},
   "source": [
    "### Training"
   ]
  },
  {
   "cell_type": "code",
   "execution_count": 7,
   "metadata": {},
   "outputs": [
    {
     "name": "stderr",
     "output_type": "stream",
     "text": [
      "huggingface/tokenizers: The current process just got forked, after parallelism has already been used. Disabling parallelism to avoid deadlocks...\n",
      "To disable this warning, you can either:\n",
      "\t- Avoid using `tokenizers` before the fork if possible\n",
      "\t- Explicitly set the environment variable TOKENIZERS_PARALLELISM=(true | false)\n"
     ]
    },
    {
     "data": {
      "application/vnd.jupyter.widget-view+json": {
       "model_id": "e7199cac884046d0810445e1b31ca7e9",
       "version_major": 2,
       "version_minor": 0
      },
      "text/plain": [
       "  0%|          | 0/86 [00:00<?, ?it/s]"
      ]
     },
     "metadata": {},
     "output_type": "display_data"
    },
    {
     "name": "stdout",
     "output_type": "stream",
     "text": [
      "{'train_runtime': 85.724, 'train_samples_per_second': 4.048, 'train_steps_per_second': 1.003, 'train_loss': 5.33204047624455, 'epoch': 0.99}\n"
     ]
    }
   ],
   "source": [
    "trainer.train()\n",
    "loss_values = loss_tracker.losses"
   ]
  },
  {
   "cell_type": "code",
   "execution_count": 8,
   "metadata": {},
   "outputs": [
    {
     "data": {
      "image/png": "[encoded data removed]",
      "text/plain": [
       "<Figure size 640x480 with 1 Axes>"
      ]
     },
     "metadata": {},
     "output_type": "display_data"
    }
   ],
   "source": [
    "import matplotlib.pyplot as plt\n",
    "\n",
    "plt.plot(loss_values)\n",
    "plt.xlabel(\"Steps\")\n",
    "plt.ylabel(\"Loss\")\n",
    "plt.title(\"Training Loss Over Time\")\n",
    "plt.show()"
   ]
  },
  {
   "cell_type": "code",
   "execution_count": 9,
   "metadata": {},
   "outputs": [],
   "source": [
    "trainer.save_model()"
   ]
  }
 ],
 "metadata": {
  "kernelspec": {
   "display_name": "dfki",
   "language": "python",
   "name": "python3"
  },
  "language_info": {
   "codemirror_mode": {
    "name": "ipython",
    "version": 3
   },
   "file_extension": ".py",
   "mimetype": "text/x-python",
   "name": "python",
   "nbconvert_exporter": "python",
   "pygments_lexer": "ipython3",
   "version": "3.10.13"
  }
 },
 "nbformat": 4,
 "nbformat_minor": 2
}
